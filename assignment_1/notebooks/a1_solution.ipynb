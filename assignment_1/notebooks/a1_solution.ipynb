{
 "cells": [
  {
   "cell_type": "markdown",
   "id": "fd5fdf63-0a79-4490-aa8f-3669ba1a7f58",
   "metadata": {},
   "source": [
    "# Assignment 1: k-Nearest Neighbors"
   ]
  },
  {
   "cell_type": "markdown",
   "id": "35168e77",
   "metadata": {},
   "source": [
    "- Name: \n",
    "- Student Number: "
   ]
  },
  {
   "cell_type": "markdown",
   "id": "2b3fadaa-a686-498a-b9c0-d56a6c8b591f",
   "metadata": {},
   "source": [
    "## Overview"
   ]
  },
  {
   "cell_type": "markdown",
   "id": "9e120208",
   "metadata": {},
   "source": [
    "In this assignment, we'll implement KNN step-by-step:\n",
    "\n",
    "1. **Euclidean Distance:** Measure similarity between data points.\n",
    "2. **Find Neighbors:** Select the 'K' closest points to a query point.\n",
    "3. **Predict (Classification and Regression):** Use majority vote from neighbors and average of neighbors' values.\n",
    "4. **Build KNN Class:** Combine everything into a reusable class.\n",
    "5. **Practical**: Train a KNN classifier on the training dataset using scikit-learn.\n",
    "\n",
    "By the end, you'll understand how KNN works and how it makes predictions based on distance. Let’s dive in!"
   ]
  },
  {
   "cell_type": "markdown",
   "id": "1907f448",
   "metadata": {},
   "source": [
    "## Instructions"
   ]
  },
  {
   "cell_type": "markdown",
   "id": "2f1e5041",
   "metadata": {},
   "source": [
    "1. Fill in your name and student number at the top of the ipynb file.\n",
    "2. The parts you need to implement are clearly marked with the following:\n",
    "\n",
    "    ```\n",
    "    \"\"\" YOUR CODE STARTS HERE \"\"\"\n",
    "\n",
    "    \"\"\" YOUR CODE ENDS HERE \"\"\"\n",
    "    ```\n",
    "\n",
    "    , and you should write your code in between the above two lines.\n",
    "3. For task 1 to 4, you are only allowed to use basic Python functions in your code (no NumPy or its equivalents), unless otherwise stated. You may reuse any functions you have defined earlier. If you are unsure whether a particular function is allowed, feel free to ask any of the TAs.\n",
    "4. For task 5, you may use any of the imported functions.\n",
    "5. Your solutions will be evaluated against a set of hidden test cases to prevent hardcoding of the answer.\n",
    "\n",
    "### Submission Instructions\n",
    "Items to be submitted:\n",
    "* **This notebook (<STUDENT_NUMBER>.ipynb)**: This is where you fill in all your code. Replace <STUDENT_NUMBER> with your actual student number starting with A (e.g. A0123456X)\n",
    "\n",
    "Submit your assignment by **XXX** to Canvas. XXX% of the total score will be deducted for each day of late submission.\n"
   ]
  },
  {
   "cell_type": "markdown",
   "id": "078789f1",
   "metadata": {},
   "source": [
    "## Task 1 - Compute Euclidean Distance"
   ]
  },
  {
   "cell_type": "markdown",
   "id": "fef572c3-37d7-4cb1-a9b3-e3c5c35f2586",
   "metadata": {},
   "source": [
    "To find the nearest neighbors, we first need a distance measure to determine how **close** two data points are.\n",
    "\n",
    "A possible distance measure is **Euclidean distance**—the straight-line distance between points $\\mathbf{p} = [p_1, p_2, ..., p_m]$ and $\\mathbf{q} = [q_1, q_2, ..., q_m]$ in $m$ dimensions:\n",
    "\n",
    "$$\n",
    "d_\\text{euclidean}(\\mathbf{p}, \\mathbf{q}) = \\sqrt{\\sum_{i=1}^{m} (p_i - q_i)^2}\n",
    "$$\n",
    "\n",
    "Implement the function calculating euclidean distance using `math.sqrt()`, without the use of `numpy`.\n",
    "\n",
    "Need to work for any dimension sizes "
   ]
  },
  {
   "cell_type": "code",
   "execution_count": null,
   "id": "ea197b46-1d86-4dbd-8474-36d62b8291d1",
   "metadata": {},
   "outputs": [
    {
     "name": "stdout",
     "output_type": "stream",
     "text": [
      "All test cases passed!\n"
     ]
    }
   ],
   "source": [
    "# TASK 1\n",
    "import math \n",
    "\n",
    "def euclidean_distance(vec_p, vec_q):\n",
    "    \"\"\"\n",
    "    TODO: Write a function to compute distance between two vectors\n",
    "    Call the math.sqrt() function to compute the square root of the sum of squared differences  \n",
    "\n",
    "    Args:\n",
    "        vec_p: Vector p, with a list of m elements.\n",
    "        vec_q: Vector q, with a list of m elements.\n",
    "    Returns:\n",
    "        A float representing the Euclidean distance between the two vectors\n",
    "    \"\"\"\n",
    "    \n",
    "    distance = 0\n",
    "\n",
    "    \"\"\" YOUR CODE STARTS HERE \"\"\"    \n",
    "    squared_differences = []\n",
    "    for i in range(len(vec_p)):\n",
    "        difference = vec_p[i] - vec_q[i]\n",
    "        squared_difference = difference ** 2\n",
    "        squared_differences.append(squared_difference)\n",
    "\n",
    "    sum_of_squares = sum(squared_differences)\n",
    "    distance = math.sqrt(sum_of_squares)\n",
    "    \"\"\" YOUR CODE ENDS HERE \"\"\"\n",
    "\n",
    "    return distance\n",
    "\n",
    "\n",
    "# TESTCASES 1\n",
    "assert math.isclose(euclidean_distance([1, 2, 3], [4, 5, 6]), 5.196152422706632, rel_tol=1e-5)\n",
    "assert math.isclose(euclidean_distance([5.5, 5.5],[5.5, 5.5]), 0.0, rel_tol=1e-5)\n",
    "assert math.isclose(euclidean_distance([],[]), 0.0, rel_tol=1e-5)\n",
    "print('All test cases passed!') "
   ]
  },
  {
   "cell_type": "markdown",
   "id": "127cc23a",
   "metadata": {},
   "source": [
    "## Task 2 - Get the K Nearest Neighbors"
   ]
  },
  {
   "cell_type": "markdown",
   "id": "64b419ad",
   "metadata": {},
   "source": [
    "Now that we can measure distance, let’s use that to find the ```k``` closest training points to a given test point. If there are multiple points with the same distance, we preserve the original ordering (stable)."
   ]
  },
  {
   "cell_type": "code",
   "execution_count": null,
   "id": "b82ccfdf",
   "metadata": {},
   "outputs": [
    {
     "name": "stdout",
     "output_type": "stream",
     "text": [
      "All test cases passed!\n"
     ]
    }
   ],
   "source": [
    "# TASK 2\n",
    "def get_k_nearest_neighbors(training_data, test_point, k):\n",
    "    \"\"\"\n",
    "    TODO: Return the k nearest neighbors to the test_point using the euclidean_distance(vec_p, vec_q) function\n",
    "\n",
    "    Args:\n",
    "        training_data: list of tuples [(feature_vector, label), ...]\n",
    "        test_point: list of numbers (the point we're classifying)\n",
    "        k: number of neighbors to consider\n",
    "    Returns:\n",
    "        list of labels of the k nearest neighbors\n",
    "    \"\"\"\n",
    "\n",
    "    k_neighbors = []\n",
    "    \n",
    "    \"\"\" YOUR CODE STARTS HERE \"\"\"  \n",
    "    distances = []\n",
    "    for feature_vector, label in training_data:\n",
    "        dist = euclidean_distance(feature_vector, test_point)\n",
    "        distances.append((dist, label))\n",
    "\n",
    "    # Sort by distance\n",
    "    distances.sort(key=lambda x: x[0])\n",
    "\n",
    "    # Return the labels of the k closest points\n",
    "    k_neighbors = [label for _, label in distances[:k]]\n",
    "    \"\"\" YOUR CODE ENDS HERE \"\"\"\n",
    "\n",
    "    return k_neighbors\n",
    "\n",
    "# TESTCASES 2.1\n",
    "training_data = [\n",
    "    ([1, 2], 'A'),\n",
    "    ([2, 3], 'B'),\n",
    "    ([3, 4], 'A'),\n",
    "    ([5, 5], 'B')\n",
    "]\n",
    "\n",
    "assert get_k_nearest_neighbors(training_data, [1.5, 2.5], k=2) == ['A', 'B']\n",
    "assert get_k_nearest_neighbors(training_data, [4, 4], k=1) == ['A']\n",
    "assert get_k_nearest_neighbors(training_data, [0, 0], k=3) == ['A', 'B', 'A']\n",
    "print('All test cases passed!') \n"
   ]
  },
  {
   "cell_type": "markdown",
   "id": "5f416626",
   "metadata": {},
   "source": [
    "## Task 3 - Prediction"
   ]
  },
  {
   "cell_type": "markdown",
   "id": "8a73ccfa",
   "metadata": {},
   "source": [
    "### Task 3.1 - Compute Majority Voting\n",
    "\n",
    "Once we have the `k` nearest neighbors, we need to decide the final label, which is the label that appears the most frequently. If there is a tie, return the label that appears first."
   ]
  },
  {
   "cell_type": "code",
   "execution_count": null,
   "id": "05d69d13",
   "metadata": {},
   "outputs": [
    {
     "name": "stdout",
     "output_type": "stream",
     "text": [
      "All test cases passed!\n"
     ]
    }
   ],
   "source": [
    "# TASK 3.1\n",
    "def knn_majority_vote(neighbors):\n",
    "    \"\"\"\n",
    "    TODO: Return the most common label in neighbors\n",
    "\n",
    "    Args:\n",
    "        neighbors: list of labels\n",
    "    Returns:\n",
    "        The label that appears most frequently.\n",
    "        If there's a tie, return the label that appears first\n",
    "    \"\"\"\n",
    "    \n",
    "    most_common_label = None\n",
    "    \n",
    "    \"\"\" YOUR CODE STARTS HERE \"\"\" \n",
    "    from collections import Counter\n",
    "    count = Counter(neighbors)\n",
    "    most_common_label = count.most_common(1)[0][0]\n",
    "    \"\"\" YOUR CODE ENDS HERE \"\"\" \n",
    "\n",
    "    return most_common_label\n",
    "\n",
    "# TESTCASES 3.1\n",
    "assert knn_majority_vote(['A', 'B', 'A']) == 'A'\n",
    "assert knn_majority_vote(['B', 'B', 'A']) == 'B'\n",
    "assert knn_majority_vote(['A', 'A', 'A']) == 'A'\n",
    "assert knn_majority_vote(['A', 'B']) == 'A'\n",
    "assert knn_majority_vote(['B', 'A']) == 'B'\n",
    "print('All test cases passed!') \n"
   ]
  },
  {
   "cell_type": "markdown",
   "id": "5cb52633",
   "metadata": {},
   "source": [
    "### Task 3.2 - Compute KNN regression prediction\n",
    "\n",
    "In this, you will implement K-Nearest Neighbors (KNN) for **regression** using only Python lists and basic functions. "
   ]
  },
  {
   "cell_type": "code",
   "execution_count": null,
   "id": "e6e4e5d0",
   "metadata": {},
   "outputs": [
    {
     "name": "stdout",
     "output_type": "stream",
     "text": [
      "All test cases passed!\n"
     ]
    }
   ],
   "source": [
    "# TASK 3.2\n",
    "def knn_regression(X_train, y_train, x_query, k):\n",
    "    \"\"\"\n",
    "    TODO: Implement the KNN regression algorithm\n",
    "\n",
    "    Args:\n",
    "        X_train (list[list[float]]): Training features\n",
    "        y_train (list[float]): Target values\n",
    "        x_query (list[float]): Query point\n",
    "        k (int): Number of neighbors\n",
    "\n",
    "    Returns:\n",
    "        float: Predicted target value by averaging the k nearest neighbors. \n",
    "    \"\"\"\n",
    "\n",
    "    prediction = 0\n",
    "\n",
    "    \"\"\" YOUR CODE STARTS HERE \"\"\" \n",
    "    distances = []\n",
    "    for i in range(len(X_train)):\n",
    "        dist = euclidean_distance(X_train[i], x_query)\n",
    "        distances.append((dist, y_train[i]))\n",
    "\n",
    "    distances.sort()\n",
    "    k_nearest = distances[:k]\n",
    "    if not k_nearest: # Handle case where no neighbors are found (e.g., empty X_train)\n",
    "        return 0.0 \n",
    "    prediction = sum(val for _, val in k_nearest) / len(k_nearest) # fixed from k to len(k_nearest)\n",
    "    \"\"\" YOUR CODE ENDS HERE \"\"\" \n",
    "\n",
    "    return prediction\n",
    "\n",
    "# TESTCASES 3.2\n",
    "X_train = [[1], [2], [3], [4], [5]]\n",
    "y_train = [1.1, 1.9, 3.0, 3.9, 5.1]\n",
    "x_query = [2.5]\n",
    "assert math.isclose(knn_regression(X_train, y_train, x_query, 2), 2.45, rel_tol=1e-5)\n",
    "\n",
    "X_train = [[1], [2], [3]]\n",
    "y_train = [1, 2, 3]\n",
    "x_query = [2.1]\n",
    "assert math.isclose(knn_regression(X_train, y_train, x_query, 1), 2, rel_tol=1e-5)\n",
    "\n",
    "X_train = [[1], [2], [3]]\n",
    "y_train = [1, 2, 3]\n",
    "x_query = [2]\n",
    "assert math.isclose(knn_regression(X_train, y_train, x_query, 3), 2, rel_tol=1e-5)\n",
    "\n",
    "X_train = [[1, 2], [2, 3], [3, 4]]\n",
    "y_train = [10, 20, 30]\n",
    "x_query = [2, 2.5]\n",
    "assert math.isclose(knn_regression(X_train, y_train, x_query, 2), 15.0, rel_tol=1e-5)\n",
    "\n",
    "print('All test cases passed!') \n"
   ]
  },
  {
   "cell_type": "markdown",
   "id": "e352a471",
   "metadata": {},
   "source": [
    "## Task 4 - Wrapping in Classes"
   ]
  },
  {
   "cell_type": "markdown",
   "id": "f54f8599",
   "metadata": {},
   "source": [
    "### Task 4.1 -  KNN Classifier"
   ]
  },
  {
   "cell_type": "markdown",
   "id": "4955d473",
   "metadata": {},
   "source": [
    "Here we combine everything into a reusable class to train your own model and make predictions! "
   ]
  },
  {
   "cell_type": "code",
   "execution_count": null,
   "id": "9a841e9f",
   "metadata": {},
   "outputs": [
    {
     "name": "stdout",
     "output_type": "stream",
     "text": [
      "All test cases passed!\n"
     ]
    }
   ],
   "source": [
    "# TASK 4.1\n",
    "class KNNClassifier:\n",
    "    def __init__(self, k=3):\n",
    "        self.k = k\n",
    "        self.training_data = []  # Will hold tuples of (feature_vector, label)\n",
    "\n",
    "    def fit(self, X, y):\n",
    "        \"\"\"\n",
    "        TODO: Store the training data. Do not return anything!\n",
    "\n",
    "        Args:\n",
    "            X : list of feature vectors\n",
    "            y : list of labels corresponding to the feature vectors\n",
    "\n",
    "        Returns:\n",
    "            None\n",
    "        \"\"\"\n",
    "\n",
    "        \"\"\" YOUR CODE STARTS HERE \"\"\" \n",
    "        self.training_data = list(zip(X, y))\n",
    "        \"\"\" YOUR CODE ENDS HERE \"\"\" \n",
    "\n",
    "\n",
    "    def predict(self, X_test):\n",
    "        \"\"\"\n",
    "        TODO: Predict the class label for each test point in X_test\n",
    "\n",
    "        Parameters:\n",
    "            X_test : list of feature vectors to classify\n",
    "\n",
    "        Returns:\n",
    "            list of predicted labels \n",
    "        \"\"\"\n",
    "    \n",
    "        predictions = []\n",
    "\n",
    "        \"\"\" YOUR CODE STARTS HERE \"\"\" \n",
    "        for test_point in X_test:\n",
    "            neighbors = get_k_nearest_neighbors(self.training_data, test_point, self.k)\n",
    "            predicted_label = knn_majority_vote(neighbors)\n",
    "            predictions.append(predicted_label)\n",
    "        \"\"\" YOUR CODE ENDS HERE \"\"\" \n",
    "        \n",
    "        return predictions\n",
    "\n",
    "# TESTCASES 4.1\n",
    "knn = KNNClassifier(k=3)\n",
    "X_train = [[1,2],[2,3],[3,4],[5,5]]\n",
    "y_train = ['A','B','A','B']\n",
    "knn.fit(X_train, y_train)\n",
    "\n",
    "X_test = [[1.5,2.5],[4,4]]\n",
    "assert knn.predict(X_test) == ['A', 'B']\n",
    "\n",
    "knn = KNNClassifier(k=1)\n",
    "X_train = [[1,1],[2,2],[3,3],[4,4]]\n",
    "y_train = ['A','A','B','B']\n",
    "knn.fit(X_train, y_train)\n",
    "\n",
    "X_test = [[1.5,1.5],[3.5,3.5]]\n",
    "assert knn.predict(X_test) == ['A', 'B']\n",
    "\n",
    "print('All test cases passed!') "
   ]
  },
  {
   "cell_type": "markdown",
   "id": "ef5c998d",
   "metadata": {},
   "source": [
    "### Task 4.2 - KNN Regressor\n",
    "\n",
    "Similarly, we do the same for the regressor."
   ]
  },
  {
   "cell_type": "code",
   "execution_count": null,
   "id": "e537f1ec",
   "metadata": {},
   "outputs": [
    {
     "name": "stdout",
     "output_type": "stream",
     "text": [
      "All test cases passed!\n"
     ]
    }
   ],
   "source": [
    "# TASK 4.2\n",
    "class KNNRegressor:\n",
    "    def __init__(self, k=3):\n",
    "        self.k = k\n",
    "        self.training_data = []  # Will hold tuples of (feature_vector, label)\n",
    "\n",
    "    def fit(self, X, y):\n",
    "        \"\"\"\n",
    "        TODO: Store the training data. Do not return anything!\n",
    "\n",
    "        Args:\n",
    "            X : list of feature vectors\n",
    "            y : list of labels corresponding to the feature vectors\n",
    "\n",
    "        Returns:\n",
    "            None\n",
    "        \"\"\"\n",
    "\n",
    "        \"\"\" YOUR CODE STARTS HERE \"\"\" \n",
    "        self.training_data = list(zip(X, y))\n",
    "        \"\"\" YOUR CODE ENDS HERE \"\"\" \n",
    "\n",
    "    def predict(self, X_test):\n",
    "        \"\"\"\n",
    "        TODO: Predict the target value for each test point in X_test\n",
    "\n",
    "        Args:\n",
    "            X_test : list of feature vectors to predict\n",
    "\n",
    "        Returns:\n",
    "            list of predicted target values \n",
    "        \"\"\"\n",
    "\n",
    "        predictions = 0\n",
    "\n",
    "        \"\"\" YOUR CODE STARTS HERE \"\"\" \n",
    "        predictions = []\n",
    "        # Separate training features and target values from the stored training_data\n",
    "        # self.training_data is a list of (feature_vector, target_value) tuples\n",
    "        X_train_fit = [item[0] for item in self.training_data]\n",
    "        y_train_fit = [item[1] for item in self.training_data]\n",
    "\n",
    "        for test_point in X_test:\n",
    "            # Call the knn_regression function for each test point\n",
    "            predicted_value = knn_regression(X_train_fit, y_train_fit, test_point, self.k)\n",
    "            predictions.append(predicted_value)\n",
    "        \"\"\" YOUR CODE ENDS HERE \"\"\" \n",
    "\n",
    "        return predictions\n",
    "\n",
    "# TESTCASES 4.2\n",
    "\n",
    "# Test Case 1\n",
    "regressor = KNNRegressor(k=3)\n",
    "X_train = [[1], [2], [3], [4], [5]]\n",
    "y_train = [10.0, 20.0, 30.0, 40.0, 50.0]\n",
    "regressor.fit(X_train, y_train)\n",
    "X_test = [[2.5], [4.5]]\n",
    "predictions = regressor.predict(X_test)\n",
    "assert math.isclose(predictions[0], 20.0)\n",
    "assert math.isclose(predictions[1], 40.0)\n",
    "\n",
    "# Test Case 2\n",
    "regressor = KNNRegressor(k=1)\n",
    "X_train = [[1, 1], [2, 2], [3, 3]]\n",
    "y_train = [10.0, 20.0, 30.0]\n",
    "regressor.fit(X_train, y_train)\n",
    "X_test = [[1.2, 1.2], [2.8, 2.8], [0.5, 0.5]]\n",
    "predictions = regressor.predict(X_test)\n",
    "assert math.isclose(predictions[0], 10.0)\n",
    "assert math.isclose(predictions[1], 30.0)\n",
    "assert math.isclose(predictions[2], 10.0)\n",
    "\n",
    "print('All test cases passed!')     "
   ]
  },
  {
   "cell_type": "markdown",
   "id": "f3926b78",
   "metadata": {},
   "source": [
    "## Task 5 - Practical\n",
    "\n",
    "Train a KNN classifier on the training dataset using scikit-learn. Leverage everything you learnt about KNNs such as feature transformations and tune hyperparameters to optimize performance. Make sure that you have installed `scikit-learn` in your python environment.\n",
    "\n",
    "You will get full marks if your accuracy reaches 50%. You may not use or access X_test and y_test in your code, as this defeats the purpose of a hidden test set"
   ]
  },
  {
   "cell_type": "code",
   "execution_count": null,
   "id": "d1d910db",
   "metadata": {},
   "outputs": [],
   "source": [
    "# TASK 5.1\n",
    "from sklearn.datasets import fetch_lfw_people\n",
    "from sklearn.model_selection import train_test_split\n",
    "from sklearn.neighbors import KNeighborsClassifier\n",
    "from sklearn.pipeline import make_pipeline\n",
    "from sklearn.decomposition import PCA\n",
    "\n",
    "# Load dataset\n",
    "lfw_people = fetch_lfw_people(min_faces_per_person=70, resize=0.4)\n",
    "X = lfw_people.data  # Flattened images\n",
    "y = lfw_people.target\n",
    "\n",
    "# Split into training and test sets\n",
    "X_train, X_test, y_train, y_test = train_test_split(\n",
    "    X, y, test_size=0.25, random_state=42)\n",
    "\n",
    "\n",
    "import numpy as np\n",
    "\n",
    "def train_model(X_train, y_train):\n",
    "    \"\"\"\n",
    "    TODO: Train and return a kNN classifier\n",
    "    If using PCA, use a pipeline to combine PCA and kNN, i.e. from sklearn.pipeline import make_pipeline\n",
    "    When .predict is called, the model should be able to perform any necessary transformations (like PCA) \n",
    "    on the test data automatically\n",
    "\n",
    "    Args:\n",
    "        X_train: Training feature vectors\n",
    "        y_train: Training labels\n",
    "    Returns:\n",
    "        A trained sklearn model, your model will be used to predict the labels of test data\n",
    "    \"\"\"\n",
    "\n",
    "    model = None\n",
    "\n",
    "    \"\"\" YOUR CODE STARTS HERE \"\"\" \n",
    "    model = make_pipeline(\n",
    "        PCA(n_components=150, whiten=True, random_state=42),\n",
    "        KNeighborsClassifier(n_neighbors=3)\n",
    "    )\n",
    "    model.fit(X_train, y_train)\n",
    "    \"\"\" YOUR CODE ENDS HERE \"\"\" \n",
    "\n",
    "    return model\n",
    "\n",
    "# TESTCASES 5.1\n",
    "# Our hidden test cases will use your trained sklearn model to predict the labels of the test data.\n",
    "# You will automatically receive points if your model achieves at least 50% accuracy on the test set.\n",
    "# Note: If your model is poorly designed or performs poorly, points may be deducted.\n",
    "\n",
    "model = train_model(X_train, y_train)\n",
    "# Check if the model can predict\n",
    "predictions = model.predict(X_test)\n",
    "assert len(predictions) == len(X_test)\n",
    "accuracy_score = model.score(X_test, y_test)\n",
    "print(f\"Model accuracy: {accuracy_score:.2f}\")\n",
    "#[/TESTCASES]     "
   ]
  },
  {
   "cell_type": "markdown",
   "id": "4cf31006",
   "metadata": {},
   "source": [
    "## END OF ASSIGNMENT"
   ]
  }
 ],
 "metadata": {
  "kernelspec": {
   "display_name": "base",
   "language": "python",
   "name": "python3"
  },
  "language_info": {
   "codemirror_mode": {
    "name": "ipython",
    "version": 3
   },
   "file_extension": ".py",
   "mimetype": "text/x-python",
   "name": "python",
   "nbconvert_exporter": "python",
   "pygments_lexer": "ipython3",
   "version": "3.12.9"
  }
 },
 "nbformat": 4,
 "nbformat_minor": 5
}
