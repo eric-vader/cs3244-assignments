{
 "cells": [
  {
   "cell_type": "code",
   "execution_count": 1,
   "id": "39d8749d",
   "metadata": {},
   "outputs": [],
   "source": [
    "import pandas as pd"
   ]
  },
  {
   "cell_type": "code",
   "execution_count": null,
   "id": "bc3efc93",
   "metadata": {},
   "outputs": [],
   "source": [
    "grades = pd.read_csv(\"a1_grades.csv\")"
   ]
  },
  {
   "cell_type": "code",
   "execution_count": 17,
   "id": "3a0ecd7b",
   "metadata": {},
   "outputs": [
    {
     "name": "stdout",
     "output_type": "stream",
     "text": [
      "       25%  Median   75%  Mean\n",
      "1      1.0     1.0   1.0  1.00\n",
      "2      1.0     1.0   1.0  0.92\n",
      "3.1    1.0     1.0   1.0  0.90\n",
      "3.2    1.0     1.0   1.0  0.98\n",
      "4.1    2.0     2.0   2.0  1.94\n",
      "4.2    2.0     2.0   2.0  1.95\n",
      "5      2.0     2.0   2.0  1.90\n",
      "total  9.5    10.0  10.0  9.59\n"
     ]
    }
   ],
   "source": [
    "cols = [\"1\", \"2\", \"3.1\", \"3.2\", \"4.1\", \"4.2\", \"5\", \"total\"]\n",
    "quartiles = grades[cols].quantile([0.25, 0.5, 0.75]).T\n",
    "quartiles.columns = [\"25%\", \"Median\", \"75%\"]\n",
    "quartiles[\"Mean\"] = grades[cols].mean().round(2)\n",
    "print(quartiles)"
   ]
  },
  {
   "cell_type": "code",
   "execution_count": null,
   "id": "8ca8d755",
   "metadata": {},
   "outputs": [],
   "source": [
    "quartiles.to_csv(\"quartiles.csv\")"
   ]
  }
 ],
 "metadata": {
  "kernelspec": {
   "display_name": "base",
   "language": "python",
   "name": "python3"
  },
  "language_info": {
   "codemirror_mode": {
    "name": "ipython",
    "version": 3
   },
   "file_extension": ".py",
   "mimetype": "text/x-python",
   "name": "python",
   "nbconvert_exporter": "python",
   "pygments_lexer": "ipython3",
   "version": "3.12.9"
  }
 },
 "nbformat": 4,
 "nbformat_minor": 5
}
