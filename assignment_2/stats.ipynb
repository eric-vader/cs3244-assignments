{
 "cells": [
  {
   "cell_type": "code",
   "execution_count": 5,
   "id": "39d8749d",
   "metadata": {},
   "outputs": [],
   "source": [
    "import pandas as pd"
   ]
  },
  {
   "cell_type": "code",
   "execution_count": 6,
   "id": "bc3efc93",
   "metadata": {},
   "outputs": [],
   "source": [
    "grades = pd.read_csv(\"a2_grades.csv\").loc[lambda x: x.student_number != \"X\"]"
   ]
  },
  {
   "cell_type": "code",
   "execution_count": 7,
   "id": "3a0ecd7b",
   "metadata": {},
   "outputs": [
    {
     "name": "stdout",
     "output_type": "stream",
     "text": [
      "         25%  Median    75%   Mean\n",
      "1.1     1.00    1.00   1.00   0.96\n",
      "1.2     0.75    3.00   3.00   2.28\n",
      "2.1     1.00    1.00   1.00   0.97\n",
      "2.2     0.50    1.00   1.00   0.81\n",
      "2.3     1.00    1.00   1.00   0.97\n",
      "2.4     2.25    2.25   2.25   2.21\n",
      "2.5     2.00    2.00   2.00   1.86\n",
      "2.6     2.00    2.00   2.00   1.76\n",
      "2.7     1.00    1.00   1.00   0.98\n",
      "total  13.75   15.25  16.25  14.73\n"
     ]
    }
   ],
   "source": [
    "cols = [\"1.1\", \"1.2\", \"2.1\", \"2.2\", \"2.3\", \"2.4\", \"2.5\", \"2.6\", \"2.7\", \"total\"]\n",
    "quartiles = grades[cols].quantile([0.25, 0.5, 0.75]).T\n",
    "quartiles.columns = [\"25%\", \"Median\", \"75%\"]\n",
    "quartiles[\"Mean\"] = grades[cols].mean().round(2)\n",
    "print(quartiles)"
   ]
  },
  {
   "cell_type": "code",
   "execution_count": 8,
   "id": "8ca8d755",
   "metadata": {},
   "outputs": [],
   "source": [
    "quartiles.to_csv(\"quartiles.csv\")"
   ]
  }
 ],
 "metadata": {
  "kernelspec": {
   "display_name": "base",
   "language": "python",
   "name": "python3"
  },
  "language_info": {
   "codemirror_mode": {
    "name": "ipython",
    "version": 3
   },
   "file_extension": ".py",
   "mimetype": "text/x-python",
   "name": "python",
   "nbconvert_exporter": "python",
   "pygments_lexer": "ipython3",
   "version": "3.12.9"
  }
 },
 "nbformat": 4,
 "nbformat_minor": 5
}
