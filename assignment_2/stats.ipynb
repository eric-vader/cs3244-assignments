{
 "cells": [
  {
   "cell_type": "code",
   "execution_count": 5,
   "id": "39d8749d",
   "metadata": {},
   "outputs": [],
   "source": [
    "import pandas as pd"
   ]
  },
  {
   "cell_type": "code",
   "execution_count": 6,
   "id": "bc3efc93",
   "metadata": {},
   "outputs": [],
   "source": [
    "grades = pd.read_csv(\"a2_grades.csv\").loc[lambda x: x.student_number != \"X\"]"
   ]
  },
  {
   "cell_type": "code",
   "execution_count": 7,
   "id": "3a0ecd7b",
   "metadata": {},
   "outputs": [
    {
     "name": "stdout",
     "output_type": "stream",
     "text": [
      "         25%  Median    75%   Mean\n",
      "1.1     1.00    1.00   1.00   0.96\n",
      "1.2     0.75    3.00   3.00   2.28\n",
      "2.1     1.00    1.00   1.00   0.97\n",
      "2.2     0.50    1.00   1.00   0.81\n",
      "2.3     1.00    1.00   1.00   0.97\n",
      "2.4     2.25    2.25   2.25   2.21\n",
      "2.5     2.00    2.00   2.00   1.86\n",
      "2.6     2.00    2.00   2.00   1.76\n",
      "2.7     1.00    1.00   1.00   0.98\n",
      "total  13.75   15.25  16.25  14.73\n"
     ]
    }
   ],
   "source": [
    "cols = [\"1.1\", \"1.2\", \"2.1\", \"2.2\", \"2.3\", \"2.4\", \"2.5\", \"2.6\", \"2.7\", \"total\"]\n",
    "quartiles = grades[cols].quantile([0.25, 0.5, 0.75]).T\n",
    "quartiles.columns = [\"25%\", \"Median\", \"75%\"]\n",
    "quartiles[\"Mean\"] = grades[cols].mean().round(2)\n",
    "print(quartiles)"
   ]
  },
  {
   "cell_type": "code",
   "execution_count": 8,
   "id": "8ca8d755",
   "metadata": {},
   "outputs": [],
   "source": [
    "quartiles.to_csv(\"quartiles.csv\")"
   ]
  },
  {
   "cell_type": "code",
   "execution_count": 14,
   "id": "bdfccb12",
   "metadata": {},
   "outputs": [
    {
     "name": "stdout",
     "output_type": "stream",
     "text": [
      "Comparison counts: comparison\n",
      "equal         193\n",
      "prev < new     20\n",
      "prev > new      1\n",
      "Name: count, dtype: int64\n",
      "Comparison 1.2 counts: comparison_1.2\n",
      "equal         203\n",
      "prev < new     10\n",
      "prev > new      1\n",
      "Name: count, dtype: int64\n",
      "Comparison 2.4 counts: comparison_2.4\n",
      "equal         207\n",
      "prev < new      7\n",
      "Name: count, dtype: int64\n"
     ]
    }
   ],
   "source": [
    "import pandas as pd\n",
    "\n",
    "# Load CSV files\n",
    "grades = pd.read_csv(\"a2_grades.csv\")\n",
    "submissions = pd.read_csv(\"a2_grades_submissions.csv\")\n",
    "\n",
    "# Merge on \"name\"\n",
    "merged = pd.merge(grades, submissions, on=\"name\", suffixes=(\"_grades\", \"_submissions\"))\n",
    "# print(merged.columns)\n",
    "# Compare total_score\n",
    "merged[\"comparison\"] = merged.apply(\n",
    "    lambda row: \"prev > new\" if row[\"total_grades\"] > row[\"total_submissions\"]\n",
    "    else (\"prev < new\" if row[\"total_grades\"] < row[\"total_submissions\"]\n",
    "          else \"equal\"),\n",
    "    axis=1\n",
    ")\n",
    "\n",
    "merged[\"comparison_1.2\"] = merged.apply(\n",
    "    lambda row: \"prev > new\" if row[\"1.2_grades\"] > row[\"1.2_submissions\"]\n",
    "    else (\"prev < new\" if row[\"1.2_grades\"] < row[\"1.2_submissions\"]\n",
    "          else \"equal\"),\n",
    "    axis=1\n",
    ")\n",
    "\n",
    "merged[\"comparison_2.4\"] = merged.apply(\n",
    "    lambda row: \"prev > new\" if row[\"2.4_grades\"] > row[\"2.4_submissions\"]\n",
    "    else (\"prev < new\" if row[\"2.4_grades\"] < row[\"2.4_submissions\"]\n",
    "          else \"equal\"),\n",
    "    axis=1\n",
    ")\n",
    "\n",
    "# Count occurrences\n",
    "counts = merged[\"comparison\"].value_counts()\n",
    "print(\"Comparison counts:\", counts)\n",
    "\n",
    "counts = merged[\"comparison_1.2\"].value_counts()\n",
    "print(\"Comparison 1.2 counts:\", counts)\n",
    "\n",
    "counts = merged[\"comparison_2.4\"].value_counts()\n",
    "print(\"Comparison 2.4 counts:\", counts)\n",
    "# Optional: see the merged table\n",
    "# print(\"\\nMerged table with comparisons:\")\n",
    "# print(merged[[\"name\", \"total_grades\", \"total_submissions\", \"comparison\"]])"
   ]
  }
 ],
 "metadata": {
  "kernelspec": {
   "display_name": "base",
   "language": "python",
   "name": "python3"
  },
  "language_info": {
   "codemirror_mode": {
    "name": "ipython",
    "version": 3
   },
   "file_extension": ".py",
   "mimetype": "text/x-python",
   "name": "python",
   "nbconvert_exporter": "python",
   "pygments_lexer": "ipython3",
   "version": "3.12.9"
  }
 },
 "nbformat": 4,
 "nbformat_minor": 5
}
